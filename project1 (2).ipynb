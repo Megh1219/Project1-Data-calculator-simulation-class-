{
  "nbformat": 4,
  "nbformat_minor": 0,
  "metadata": {
    "colab": {
      "provenance": []
    },
    "kernelspec": {
      "name": "python3",
      "display_name": "Python 3"
    },
    "language_info": {
      "name": "python"
    }
  },
  "cells": [
    {
      "cell_type": "code",
      "execution_count": 120,
      "metadata": {
        "colab": {
          "base_uri": "https://localhost:8080/"
        },
        "id": "3pRr6RU6kVBJ",
        "outputId": "8985cd77-8364-4426-a89f-7d769f822ffc"
      },
      "outputs": [
        {
          "output_type": "stream",
          "name": "stdout",
          "text": [
            "Mounted at /content/gdrive\n"
          ]
        }
      ],
      "source": [
        "from google.colab import drive\n",
        "drive.mount('/content/gdrive')"
      ]
    },
    {
      "cell_type": "markdown",
      "source": [
        "**Import Dependencies**"
      ],
      "metadata": {
        "id": "jvf3y9Bvnprz"
      }
    },
    {
      "cell_type": "code",
      "source": [
        "import pandas as pd\n",
        "import numpy as np\n",
        "import os\n",
        "import glob\n",
        "import matplotlib.pyplot as plt\n",
        "from scipy.stats import norm\n",
        "import statistics\n",
        "import random"
      ],
      "metadata": {
        "id": "6Dz_I74qnf5f"
      },
      "execution_count": 134,
      "outputs": []
    },
    {
      "cell_type": "markdown",
      "source": [
        "**GetDataClass**"
      ],
      "metadata": {
        "id": "ptLB952obPyB"
      }
    },
    {
      "cell_type": "code",
      "source": [
        "class GetDataClass:\n",
        "  #Creating a constructor\n",
        "  def __init__(self):\n",
        "    self.datas = None\n",
        "\n",
        "  #Function to read data\n",
        "  def read_data(self):\n",
        "    path = input(\"Enter the path of the file: \") \n",
        "    if os.path.exists(path):\n",
        "      self.datas = np.genfromtxt(path, delimiter=',')\n",
        "      print(self.datas)\n",
        "    else: \n",
        "      print('File path is invalid!')\n",
        "\n",
        "  #Function to load data from the directory\n",
        "  def load_data_from_directory(self):\n",
        "    path_of_directory = input('Enter the path of the directory: ')\n",
        "\n",
        "    #Raise error when the directory is present\n",
        "    if not os.path.isdir(path_of_directory):\n",
        "      print('Invalid path directory!')\n",
        "\n",
        "    #Getting all files from the directory\n",
        "    files = [files for files in glob.glob(path_of_directory + str('/*'))]\n",
        "\n",
        "    #Print all the files\n",
        "    for i, file in enumerate(files):\n",
        "      print('{} {}'.format(i+1, file.split('/')[-1]))\n",
        "\n",
        "    #Asking the user to select a file\n",
        "    user_choice = int(input('Enter the file number: '))\n",
        "\n",
        "    #Check whether the file's index is valid or not\n",
        "    if user_choice < 1 or user_choice > len(files):\n",
        "      print('The choice is invalid!')\n",
        "\n",
        "    #Getting file name from the index number\n",
        "    file_name = files[user_choice-1]\n",
        "\n",
        "    #Read the csv file\n",
        "    data = pd.read_csv(file_name)\n",
        "\n",
        "    #Converting pandas dataframe to numpy array\n",
        "    data_array = data.to_numpy()\n",
        "    print(data_array)\n",
        "    return data_array\n",
        "\n",
        "  def validate_data(self):\n",
        "    path_of_directory = input('Enter the path of the directory: ')\n",
        "\n",
        "    #Raise error when the directory is present\n",
        "    if not os.path.isdir(path_of_directory):\n",
        "      print('Invalid path directory!')\n",
        "\n",
        "    #Getting all files from the directory\n",
        "    files = [files for files in glob.glob(path_of_directory + str('/*'))]\n",
        "\n",
        "    #Print all the files\n",
        "    for i, file in enumerate(files):\n",
        "      print('{} {}'.format(i+1, file.split('/')[-1]))\n",
        "\n",
        "    #Asking the user to select a file\n",
        "    user_choice = int(input('Enter the file number: '))\n",
        "\n",
        "    #Check whether the file's index is valid or not\n",
        "    if user_choice < 1 or user_choice > len(files):\n",
        "      print('The choice is invalid!')\n",
        "\n",
        "    #Getting file name from the index number\n",
        "    file_name = files[user_choice-1]\n",
        "\n",
        "    #Read the csv file\n",
        "    data = pd.read_csv(file_name)\n",
        "\n",
        "    #Checking for the NaN values\n",
        "    if data.isnull().sum().sum() != 0:\n",
        "      print('There are {} NaN values present in the dataframe'.format(data.isnull().sum().sum()))\n",
        "      return False\n",
        "\n",
        "    #Check all the columns for numerical values\n",
        "    if not all(data.dtypes == 'float64'):\n",
        "      print('The dataframe contains some decimal values!')\n",
        "      return True\n",
        "\n",
        "    #When all the conditions are meet\n",
        "    print('The dataframe is valid!')\n",
        "    return True"
      ],
      "metadata": {
        "id": "8SmBL4-bbPDH"
      },
      "execution_count": 135,
      "outputs": []
    },
    {
      "cell_type": "code",
      "source": [
        "#Creating object of the class and using the necessary methods\n",
        "getdata = GetDataClass()\n",
        "getdata.load_data_from_directory()\n",
        "getdata.validate_data()"
      ],
      "metadata": {
        "id": "NvZqSy-c2qfY"
      },
      "execution_count": null,
      "outputs": []
    },
    {
      "cell_type": "markdown",
      "source": [
        "**Calculator Class**"
      ],
      "metadata": {
        "id": "tZ2pJe5q3JPS"
      }
    },
    {
      "cell_type": "code",
      "source": [
        "class CalculatorClass:\n",
        "  def __init__(self):\n",
        "    pass\n",
        "\n",
        "  #Function to convert units\n",
        "  def convert_units(self):\n",
        "    #Asking user for conversion unit\n",
        "    user_value = float(input('Enter the number you want for conversion: '))\n",
        "    user_unit = input('Enter the unit of the number (g, kg, F, C, cm, m): ').lower()\n",
        "    conversion_unit = input('Select the unit to conver the number (g, kg, F, C, cm, m): ').lower()\n",
        "\n",
        "    #Comparing units and returing respective results\n",
        "    if user_unit == 'g' and conversion_unit == 'kg':\n",
        "      return user_value * 0.001\n",
        "    elif user_unit == 'f' and conversion_unit == 'c':\n",
        "      return (user_value - 32) * (5/9)\n",
        "    elif user_unit == 'cm' and conversion_unit == 'm':\n",
        "      return user_value * 0.01\n",
        "    elif user_unit == 'kg' and conversion_unit == 'g':\n",
        "      return user_value * 1000\n",
        "    elif user_unit == 'c' and conversion_unit == 'f':\n",
        "      return (user_value * (5/9)) + 32\n",
        "    elif user_unit == 'm' and conversion_unit == 'cm':\n",
        "      return user_value * 100\n",
        "    else:\n",
        "      print('Invalid conversion unit!')\n",
        "      return None\n",
        "    \n",
        "  #Finding mean\n",
        "  def find_mean(self):\n",
        "    array_of_data = map(int,input(\"Enter the value to data array with comma: \").split(','))\n",
        "    array_of_data = list(array_of_data)\n",
        "    return np.mean(array_of_data) #Got idea from my cousin\n",
        "\n",
        "  #Finding variance\n",
        "  def find_variance(self):\n",
        "    array_of_data = map(int,input(\"Enter the value to data array with comma: \").split(','))\n",
        "    array_of_data = list(array_of_data)\n",
        "    return np.var(array_of_data)\n",
        "\n",
        "  #Finding max number and index of max number\n",
        "  def find_index_and_max_value(self):\n",
        "    array_of_data = map(int,input(\"Enter the value to data array with comma: \").split(','))\n",
        "    array_of_data = list(array_of_data)\n",
        "    max_value = np.max(array_of_data)\n",
        "    max_index = np.argmax(array_of_data)\n",
        "    return max_value, max_index\n",
        "\n",
        "  #Finding min number and index of min number\n",
        "  def find_index_and_min_value(self):\n",
        "    array_of_data = map(int,input(\"Enter the value to data array with comma: \").split(','))\n",
        "    array_of_data = list(array_of_data)\n",
        "    max_value = np.min(array_of_data)\n",
        "    max_index = np.argmin(array_of_data)\n",
        "    return max_value, max_index\n",
        "\n",
        "  #Main function to accumulate all the functions in one main function\n",
        "  def main(self):\n",
        "    start = True\n",
        "    while start:\n",
        "      #Asking for user's choise, #Got idea from my cousin\n",
        "      print(\"Select a function to use:\")\n",
        "      print(\"1. Convert units\")\n",
        "      print(\"2. Find mean\")\n",
        "      print(\"3. Find variance\")\n",
        "      print(\"4. Find max value and index\")\n",
        "      print(\"5. Find min value and index\")\n",
        "      choice = int(input())\n",
        "\n",
        "      if choice == 1:\n",
        "        final_result = self.convert_units()\n",
        "        print('Converted Units: {}'.format(final_result))\n",
        "      elif choice == 2:\n",
        "        final_result = self.find_mean()\n",
        "        print('Mean of array data: {}'.format(final_result))\n",
        "      elif choice == 3:\n",
        "        final_result = self.find_variance()\n",
        "        print('Variance of array data: {}'.format(final_result))\n",
        "      elif choice == 4:\n",
        "        final_result = self.find_index_and_max_value()\n",
        "        print('Maximum value of data array is {} at index {}'.format(final_result[0], final_result[1]))\n",
        "      elif choice == 5:\n",
        "        final_result = self.find_index_and_min_value()\n",
        "        print('Minimum value of data array is {} at index {}'.format(final_result[0], final_result[1]))\n",
        "      else:\n",
        "        print('Please enter right number!')\n",
        "\n",
        "      choice = 0\n",
        "\n",
        "      que = input('Do you want to continue (c) or exit (e)? ').lower()\n",
        "      if que == 'c':\n",
        "        self.main()\n",
        "      else:\n",
        "        start = False\n",
        "      break\n",
        "\n"
      ],
      "metadata": {
        "id": "RtUGYm5f3Rb-"
      },
      "execution_count": null,
      "outputs": []
    },
    {
      "cell_type": "code",
      "source": [
        "#Creating object of the class and using the necessary methods\n",
        "calculations = CalculatorClass()\n",
        "calculations.main()"
      ],
      "metadata": {
        "id": "wCusooc8ow0W"
      },
      "execution_count": null,
      "outputs": []
    },
    {
      "cell_type": "markdown",
      "source": [
        "**Plot And Simulate Class**"
      ],
      "metadata": {
        "id": "TrxGaxxbNxZx"
      }
    },
    {
      "cell_type": "code",
      "source": [
        "class PlotAndSimulate:\n",
        "  def __init__(self):\n",
        "    pass\n",
        "\n",
        "  #Function to create normal plot\n",
        "  def plot_normal(self):\n",
        "\n",
        "    first_num = float(input('Enter the first number to start range for normal distribution: '))\n",
        "    second_num = float(input('Enter the second number to end range for normal distribution: '))\n",
        "    num_of_steps = float(input('Enter the number of steps for normal distribution: '))\n",
        "\n",
        "    # Plot between first number and second number with num_of_steps.\n",
        "    x_axis = np.arange(first_num, second_num, num_of_steps)\n",
        "\n",
        "    # Calculating mean and standard deviation\n",
        "    mean = statistics.mean(x_axis) #Finding mean\n",
        "    sd = statistics.stdev(x_axis) #Finding standard deviation,#Got help from my cousin\n",
        "      \n",
        "    #Plotting normal graph\n",
        "    plt.plot(x_axis, norm.pdf(x_axis, mean, sd))\n",
        "    plt.title('Normal Plot')\n",
        "    plt.show()\n",
        "\n",
        "  #Function to create scatter plot\n",
        "  def plot_scatter(self):\n",
        "\n",
        "    #Asking user for the input\n",
        "    X = list(map(int,input(\"Enter the value for X-data array for scatter plot with comma eg.(1,2,3,4,5): \").split(',')))\n",
        "    y = list(map(int,input(\"Enter the value for y-data array scatter plot with comma eg.(1,2,3,4,5): \").split(',')))\n",
        "\n",
        "    #Checking for len of both array\n",
        "    if len(X) != len(y):\n",
        "      raise ValueError('Length of both data array must be same. Please re-enter!')\n",
        "\n",
        "    #Plotting the scatter graph\n",
        "    plt.scatter(X, y)\n",
        "    plt.title('Scatter Plot')\n",
        "    plt.show()\n",
        "  \n",
        "  #Function to create random dataset, #Got idea from my cousin\n",
        "  def choose_random_dataset(self):\n",
        "\n",
        "    #Asking user for necessary inputs\n",
        "    first = int(input('Enter first number for random dataset: '))1\n",
        "    second = int(input('Enter second number for random dataset: '))\n",
        "    n_samples = int(input('Please select number of samples: '))\n",
        "\n",
        "    X = []\n",
        "    y = []\n",
        "    i = 1\n",
        "\n",
        "    for i in range(n_samples):\n",
        "      n = random.randint(first,second)\n",
        "      X.append(n)\n",
        "\n",
        "    for i in range(n_samples):\n",
        "      y.append(i)\n",
        "      i += 1\n",
        "\n",
        "    #Dictionary for creating the dataframe\n",
        "    data = {'Random Dataset':X, 'Index':y}\n",
        "\n",
        "    #Creating the dataframe\n",
        "    df = pd.DataFrame(data, columns=['Random Dataset', 'Index'])\n",
        "    print(df.head())\n",
        "\n",
        "    mean = statistics.mean(df['Random Dataset'])\n",
        "    sd = statistics.stdev(df['Random Dataset'])\n",
        "      \n",
        "    plt.plot(df['Random Dataset'], norm.pdf(df['Random Dataset'], mean, sd))\n",
        "    plt.title('Normal Plot')\n",
        "    plt.show()\n",
        "\n",
        "    plt.scatter(y, X)\n",
        "    plt.title('Scatter Plot')\n",
        "    plt.show()\n",
        "\n",
        "  #Accumulating all, #Got idea from my cousin\n",
        "  def main(self):\n",
        "    #Asking for user's choice\n",
        "    user_input = int(input('Select a method for simulation\\n1. Plot Scatter\\n2. Plot Normal\\n3. Choose Random Dataset'))\n",
        "\n",
        "    start = True\n",
        "\n",
        "    #Using loop until user want to exit the program\n",
        "    while start:\n",
        "\n",
        "      if user_input == 1:\n",
        "        self.plot_scatter()\n",
        "      elif user_input == 2:\n",
        "        self.plot_normal()\n",
        "      else:\n",
        "        self.choose_random_dataset()\n",
        "      \n",
        "      user_input = 0\n",
        "      print('')\n",
        "      que = input('Do you want to continue (c) or exit (e)? ').lower()\n",
        "      print('')\n",
        "\n",
        "      if que == str('c'):\n",
        "        self.main()\n",
        "      else:\n",
        "        start = False\n",
        "      break"
      ],
      "metadata": {
        "id": "kCWHqtfUPwkR"
      },
      "execution_count": null,
      "outputs": []
    },
    {
      "cell_type": "code",
      "source": [
        "#Creating object of the class and using the necessary methods\n",
        "plotandsimulate = PlotAndSimulate()\n",
        "plotandsimulate.main()"
      ],
      "metadata": {
        "id": "3189iftdAxD5"
      },
      "execution_count": null,
      "outputs": []
    },
    {
      "cell_type": "code",
      "source": [],
      "metadata": {
        "id": "N7rQShm-mgy7"
      },
      "execution_count": null,
      "outputs": []
    }
  ]
}